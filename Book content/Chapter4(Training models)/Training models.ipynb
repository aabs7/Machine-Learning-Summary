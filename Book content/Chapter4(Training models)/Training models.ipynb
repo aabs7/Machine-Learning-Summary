{
 "cells": [
  {
   "cell_type": "code",
   "execution_count": 1,
   "metadata": {},
   "outputs": [],
   "source": [
    "import numpy as np\n",
    "import matplotlib.pyplot as plt"
   ]
  },
  {
   "cell_type": "code",
   "execution_count": 2,
   "metadata": {},
   "outputs": [],
   "source": [
    "X = 2 * np.random.rand(100,1)\n",
    "y = 4 + 3 * X + np.random.randn(100,1)"
   ]
  },
  {
   "cell_type": "markdown",
   "metadata": {},
   "source": [
    "## Linear regression model prediction\n",
    "\n",
    "$y = \\theta_0x_0 + \\theta_1x_1 + \\theta_2x_2 + .... + \\theta_nx_n$\n",
    "\n",
    "This can be written much more concisely using a vectorized form as shown below:\n",
    "\n",
    "$y = h_{\\theta}(x) = \\theta.x$\n",
    "\n",
    "- $\\theta$ is the model's parameter vector, containing the bias term $\\theta_0$ and the feature weights $\\theta_1$ to $\\theta_n$\n",
    "\n",
    "add $x_0 = 1$ to each instance to create $x_b$ "
   ]
  },
  {
   "cell_type": "code",
   "execution_count": 3,
   "metadata": {},
   "outputs": [
    {
     "name": "stdout",
     "output_type": "stream",
     "text": [
      "[[3.88618838]\n",
      " [3.10567672]]\n"
     ]
    }
   ],
   "source": [
    "X_b = np.c_[np.ones((100,1)),X]\n",
    "theta_best = np.linalg.inv(X_b.T.dot(X_b)).dot(X_b.T).dot(y)\n",
    "print(theta_best)"
   ]
  },
  {
   "cell_type": "markdown",
   "metadata": {},
   "source": [
    "We expected $\\theta_{0}$ to be 4 and $\\theta_{1}$ to be 3. Close enough, but the gaussian noise made it impossible to recover the exact parameters of the original function.\n",
    "\n",
    "Now predicting the value of y using the theta_best"
   ]
  },
  {
   "cell_type": "code",
   "execution_count": 4,
   "metadata": {},
   "outputs": [
    {
     "name": "stdout",
     "output_type": "stream",
     "text": [
      "[[ 3.88618838]\n",
      " [10.09754182]]\n"
     ]
    }
   ],
   "source": [
    "X_new = np.array([[0],[2]])\n",
    "X_new_b = np.c_[np.ones((2,1)),X_new] # add x0 = 1 to each instance\n",
    "y_predict = X_new_b @ theta_best\n",
    "print(y_predict)"
   ]
  },
  {
   "cell_type": "code",
   "execution_count": 5,
   "metadata": {},
   "outputs": [
    {
     "data": {
      "image/png": "[encoded data removed]",
      "text/plain": [
       "<Figure size 432x288 with 1 Axes>"
      ]
     },
     "metadata": {
      "needs_background": "light"
     },
     "output_type": "display_data"
    }
   ],
   "source": [
    "plt.plot(X_new,y_predict,\"r-\")\n",
    "plt.plot(X,y,\"b.\")\n",
    "plt.xlabel(\"X_1\")\n",
    "plt.ylabel(\"Y\")\n",
    "plt.axis([0,2,0,15])\n",
    "plt.show()"
   ]
  },
  {
   "cell_type": "markdown",
   "metadata": {},
   "source": [
    "The LinearRegression class is based on the np.linalg.lstsq() function which you could call directly. \n",
    "\n",
    "This function computes $\\theta = X^+ y $, where $X^+$ is the **pseudoinverse** of X. You can use np.linalg.pinv() to compute the pseudo inverse directly."
   ]
  },
  {
   "cell_type": "code",
   "execution_count": 6,
   "metadata": {},
   "outputs": [
    {
     "data": {
      "text/plain": [
       "array([[3.88618838],\n",
       "       [3.10567672]])"
      ]
     },
     "execution_count": 6,
     "metadata": {},
     "output_type": "execute_result"
    }
   ],
   "source": [
    "theta_best_svd, residuals, rank, s = np.linalg.lstsq(X_b,y,rcond = 1e-6)\n",
    "theta_best_svd"
   ]
  },
  {
   "cell_type": "code",
   "execution_count": 7,
   "metadata": {},
   "outputs": [
    {
     "data": {
      "text/plain": [
       "array([[3.88618838],\n",
       "       [3.10567672]])"
      ]
     },
     "execution_count": 7,
     "metadata": {},
     "output_type": "execute_result"
    }
   ],
   "source": [
    "np.linalg.pinv(X_b).dot(y)"
   ]
  },
  {
   "cell_type": "markdown",
   "metadata": {},
   "source": [
    "The pseudoinverse itself is computed using a standard matrix factorization technique called **Singular Value Decomposition (SVD)** that can decompose the training set matrix X into the matrix multiplication of three matrices $ U, \\sum, V^T$. The pseudoinverse is computed as $X^+ = V\\sum^{+}U^T$.\n",
    "\n",
    "The normal equation may not work if the matrix $X^TX$ is not invertible (i.e singular). Hence SVD method is normally used to calculate theta_best.\n",
    "\n",
    "##### Computational Complexity\n",
    "The normal equation for finding theta best is:  \n",
    "\n",
    "\n",
    "$\\theta = (X^TX)^{-1}X^Ty$\n",
    "\n",
    "This equation computes the inverse of $X^TX$ which is an $(n+1)*(n+1)$ matrix (where n is the number of features). The *Computational complexity* of inverting such a matrix is typically about $O(n^{2.4})$ to $O(n^3)$ depending upon the implementation.  \n",
    "\n",
    "The SVD approach used by Scikit-Learn's LinearRegression class is about $O(n^2)$. \n",
    "\n",
    "\n",
    "## Gradient Descent\n",
    "### 1) Batch Gradient Descent\n",
    "Now we will look at very different ways to train a Linear Regression model, better suited for cases where there are a large number of features, or too many training instances to fit in memory. \n",
    "\n",
    "The idea of Gradient Descent is to tweak parameters ($\\theta$) iteratively in order to minimize a cost function.  \n",
    "\n",
    "You can calculate the gradient descent using the following formula on the go.\n",
    "$MSE(\\theta) = \\frac{2}{m} X^T(X\\theta - y)$\n",
    "\n",
    "and use this gradient to tweak the parameters ($\\theta$)  \n",
    "\n",
    "$ \\theta^{(next step)} = \\theta - \\eta * MSE(\\theta) $\n",
    "\n",
    "where $\\eta$ (eta) is the learning rate.\n"
   ]
  },
  {
   "cell_type": "code",
   "execution_count": 8,
   "metadata": {},
   "outputs": [
    {
     "name": "stdout",
     "output_type": "stream",
     "text": [
      "[[3.88618838]\n",
      " [3.10567672]]\n"
     ]
    }
   ],
   "source": [
    "eta = 0.1 #learning rate\n",
    "n_iterations = 1000\n",
    "m = 100\n",
    "\n",
    "theta = np.random.randn(2,1) #random initialization of theta\n",
    "\n",
    "for iteration in range(n_iterations):\n",
    "    gradients = 2/m * X_b.T @ (X_b @ theta - y)\n",
    "    theta = theta - eta * gradients\n",
    "\n",
    "print(theta)"
   ]
  },
  {
   "cell_type": "markdown",
   "metadata": {},
   "source": [
    "### 2) Stochastic Gradient Descent\n",
    "The main problem with Batch Gradient Descent is the fact that it uses the whole training set to compute the gradients at every step, which makes it very slow when the training set is large. \n",
    "\n",
    "However, **Stochastic gradient descent** just picks a random instance in the training set at every step and computes the gradients based only on that single instance. This makes it possible to train on huge datasets, since only one instance needs to be in memory at each iteration.\n",
    "\n",
    "Because of stochastic nature, the algorithm is much less regular than Batch Gradient Descent: instead of gently decreasing until it reaches the minimum, the cost function will bounce up and down, decreasing only on average. Overtime it will end up very close to the minimum, but once it gets there it will continue to bounce around, never settling down. So once the algorithm stops, the final parameter value are good, but not optimal. \n",
    "\n",
    "- When the cost function is very irregular, this can actually help the algorithm jump out of local minima, so SGD has a better chance of finding the global minimum than BGD.\n",
    "\n",
    "To solve SGD problem, we can gradually reduce the learning rate. The step starts out with large learning rate, and then gets smaller and smaller, allowing the algorithm to settle at global minima. The function that determines the learning rate at each iteration is called the **learning schedule**. \n",
    "\n",
    "The implementation of SGD is below:"
   ]
  },
  {
   "cell_type": "code",
   "execution_count": 9,
   "metadata": {},
   "outputs": [],
   "source": [
    "n_epochs = 50\n",
    "t0,t1 = 5,50 # learning schedule hyperparameters. \n",
    "\n",
    "def learning_schedule(t):\n",
    "    return t0 / (t + t1)\n",
    "\n",
    "theta = np.random.randn(2,1) # random initialization\n",
    "\n",
    "for epoch in range(n_epochs):\n",
    "    for i in range(m):\n",
    "        random_index = np.random.randint(m)\n",
    "        xi = X_b[random_index:random_index+1]\n",
    "        yi = y[random_index:random_index+1]\n",
    "        gradients = 2 * xi.T @ (xi @ theta - yi)\n",
    "        eta = learning_schedule(epoch * m + i)\n",
    "        theta = theta - eta * gradients"
   ]
  },
  {
   "cell_type": "code",
   "execution_count": 10,
   "metadata": {},
   "outputs": [
    {
     "data": {
      "text/plain": [
       "array([[3.91938581],\n",
       "       [3.09216076]])"
      ]
     },
     "execution_count": 10,
     "metadata": {},
     "output_type": "execute_result"
    }
   ],
   "source": [
    "theta"
   ]
  },
  {
   "cell_type": "markdown",
   "metadata": {},
   "source": [
    "You can also use scikit-learn to implement SGD directly without using code as above. "
   ]
  },
  {
   "cell_type": "code",
   "execution_count": 11,
   "metadata": {},
   "outputs": [],
   "source": [
    "from sklearn.linear_model import SGDRegressor"
   ]
  },
  {
   "cell_type": "code",
   "execution_count": 12,
   "metadata": {},
   "outputs": [
    {
     "data": {
      "text/plain": [
       "SGDRegressor(eta0=0.1, penalty=None)"
      ]
     },
     "execution_count": 12,
     "metadata": {},
     "output_type": "execute_result"
    }
   ],
   "source": [
    "sgd_reg = SGDRegressor(max_iter = 1000, tol= 1e-3, penalty = None, eta0 = 0.1)\n",
    "sgd_reg.fit(X,y.ravel())"
   ]
  },
  {
   "cell_type": "code",
   "execution_count": 13,
   "metadata": {},
   "outputs": [
    {
     "data": {
      "text/plain": [
       "(array([3.8358715]), array([3.09376233]))"
      ]
     },
     "execution_count": 13,
     "metadata": {},
     "output_type": "execute_result"
    }
   ],
   "source": [
    "sgd_reg.intercept_,sgd_reg.coef_"
   ]
  },
  {
   "cell_type": "markdown",
   "metadata": {},
   "source": [
    "You can see from above that intercept nearly equals to 4 and coefficent equal to 3\n",
    "\n",
    "\n",
    "### Mini-Batch Gradient descent\n",
    "\n",
    "At each step, instead of computing the gradients based on the full training set (as in Batch GD) or based on just one instance (as in Stochastic GD), Mini-Batch GD computes the gradients on small random sets of instances called *mini-batches*. \n",
    "\n",
    "The main advantage of Mini-batch GD over Stochastic GD is that you can get a performance boost from hardware optimization of matrix operations, especially when using GPUs\n",
    "\n",
    "\n",
    "## Polynomial regression\n",
    "\n",
    "What if your data is actually more complex than a simple straight line? You can actually use a linear model to fit nonlinear data. A simple way to do this is to add powers of each features as new features, then train a linear model on this extended set of features. This technique is known as **Polynomial regression**. \n",
    "\n",
    "\n",
    "``` while the Normal equation can only perform Linear Regression, the Gradient Descent algorithms can be used to train many other models```"
   ]
  },
  {
   "cell_type": "code",
   "execution_count": 14,
   "metadata": {},
   "outputs": [],
   "source": [
    "m = 100\n",
    "X = 6 * np.random.rand(m,1) - 3 \n",
    "y = 0.5 * X**2 + X + 2 + np.random.randn(m,1)"
   ]
  },
  {
   "cell_type": "code",
   "execution_count": 15,
   "metadata": {},
   "outputs": [
    {
     "data": {
      "text/plain": [
       "Text(0, 0.5, 'y')"
      ]
     },
     "execution_count": 15,
     "metadata": {},
     "output_type": "execute_result"
    },
    {
     "data": {
      "image/png": "[encoded data removed]",
      "text/plain": [
       "<Figure size 432x288 with 1 Axes>"
      ]
     },
     "metadata": {
      "needs_background": "light"
     },
     "output_type": "display_data"
    }
   ],
   "source": [
    "plt.scatter(X,y)\n",
    "plt.xlabel('X1')\n",
    "plt.ylabel('y')"
   ]
  },
  {
   "cell_type": "markdown",
   "metadata": {},
   "source": [
    "Clearly, a straight line will never fit this data properly. So let's use Scikit-Learns PolynomialFeatures class to transform our training data, adding the square(2nd degree polynomial) of each feature in the training set as new features."
   ]
  },
  {
   "cell_type": "code",
   "execution_count": 16,
   "metadata": {},
   "outputs": [],
   "source": [
    "from sklearn.preprocessing import PolynomialFeatures\n",
    "from sklearn.linear_model import LinearRegression"
   ]
  },
  {
   "cell_type": "code",
   "execution_count": 17,
   "metadata": {},
   "outputs": [
    {
     "data": {
      "text/plain": [
       "array([-0.71274052])"
      ]
     },
     "execution_count": 17,
     "metadata": {},
     "output_type": "execute_result"
    }
   ],
   "source": [
    "poly_features = PolynomialFeatures(degree = 2, include_bias = False)\n",
    "X_poly = poly_features.fit_transform(X)\n",
    "X[0]"
   ]
  },
  {
   "cell_type": "code",
   "execution_count": 18,
   "metadata": {},
   "outputs": [
    {
     "data": {
      "text/plain": [
       "array([-0.71274052,  0.50799905])"
      ]
     },
     "execution_count": 18,
     "metadata": {},
     "output_type": "execute_result"
    }
   ],
   "source": [
    "X_poly[0]\n",
    "# This contains the original feature of X and square of this feature."
   ]
  },
  {
   "cell_type": "code",
   "execution_count": 19,
   "metadata": {},
   "outputs": [
    {
     "data": {
      "text/plain": [
       "LinearRegression()"
      ]
     },
     "execution_count": 19,
     "metadata": {},
     "output_type": "execute_result"
    }
   ],
   "source": [
    "lin_reg = LinearRegression()\n",
    "lin_reg.fit(X_poly,y)"
   ]
  },
  {
   "cell_type": "code",
   "execution_count": 20,
   "metadata": {},
   "outputs": [
    {
     "data": {
      "text/plain": [
       "(array([1.80373462]), array([[1.04540444, 0.53626902]]))"
      ]
     },
     "execution_count": 20,
     "metadata": {},
     "output_type": "execute_result"
    }
   ],
   "source": [
    "lin_reg.intercept_,lin_reg.coef_"
   ]
  },
  {
   "cell_type": "markdown",
   "metadata": {},
   "source": [
    "This shows $ y = 0.48 x^2 + 1.04 x + 2.08 $, while the original equation was $ y = 0.5 x^2 + x + 2 + nosie_{gaussain} $. This is pretty close to the original equation"
   ]
  },
  {
   "cell_type": "code",
   "execution_count": 21,
   "metadata": {},
   "outputs": [],
   "source": [
    "from sklearn.metrics import mean_squared_error\n",
    "from sklearn.model_selection import train_test_split\n",
    "\n",
    "def plot_learning_curves(model,X,y):\n",
    "    X_train,X_val,y_train,y_val = train_test_split(X,y,test_size = 0.2)\n",
    "    train_errors, val_errors = [],[]\n",
    "    for m in range(1,len(X_train)):\n",
    "        model.fit(X_train[:m],y_train[:m])\n",
    "        y_train_predict = model.predict(X_train[:m])\n",
    "        y_val_predict = model.predict(X_val)\n",
    "        train_errors.append(mean_squared_error(y_train[:m],y_train_predict))\n",
    "        val_errors.append(mean_squared_error(y_val,y_val_predict))\n",
    "    plt.plot(np.sqrt(train_errors),'r-+',linewidth = 2,label = \"train\")\n",
    "    plt.plot(np.sqrt(val_errors),'b-',linewidth=3,label=\"val\")\n",
    "    plt.legend()\n",
    "    plt.xlabel('Training set size')\n",
    "    plt.ylabel('RMSE')"
   ]
  },
  {
   "cell_type": "code",
   "execution_count": 22,
   "metadata": {},
   "outputs": [
    {
     "data": {
      "image/png": "[encoded data removed]",
      "text/plain": [
       "<Figure size 432x288 with 1 Axes>"
      ]
     },
     "metadata": {
      "needs_background": "light"
     },
     "output_type": "display_data"
    }
   ],
   "source": [
    "lin_reg = LinearRegression()\n",
    "plot_learning_curves(lin_reg,X,y)"
   ]
  },
  {
   "cell_type": "markdown",
   "metadata": {},
   "source": [
    "Now let's look at the learning curves of a 10th degree polynomial model on the same data"
   ]
  },
  {
   "cell_type": "code",
   "execution_count": 23,
   "metadata": {},
   "outputs": [
    {
     "data": {
      "image/png": "[encoded data removed]",
      "text/plain": [
       "<Figure size 432x288 with 1 Axes>"
      ]
     },
     "metadata": {
      "needs_background": "light"
     },
     "output_type": "display_data"
    }
   ],
   "source": [
    "from sklearn.pipeline import Pipeline\n",
    "\n",
    "polynomial_regression = Pipeline([\n",
    "    (\"poly_features\",PolynomialFeatures(degree=10,include_bias = False)),\n",
    "    (\"lin_reg\",LinearRegression())\n",
    "])\n",
    "\n",
    "plot_learning_curves(polynomial_regression,X,y)"
   ]
  },
  {
   "cell_type": "markdown",
   "metadata": {},
   "source": [
    "## Regularized Linear Model\n",
    "A good way to reduce overfitting is to regularize the model (i.e constrain it): the fewer degrees of freedom it has, the harder it will be for it to overfit the data. For eg: A simple way to regularize a polynomial model is to reduce the number of polynomial degrees. \n",
    "\n",
    "For a linear model, regularization is typically ahieved by constraining the weights of the model.\n",
    "\n",
    "### 1) Ridge Regression:\n",
    "- Regularized version of Linear regression: a regularization term equal to $\\alpha\\sum_{i=1}^{n}\\theta_i^2$ is added to cost function.\n",
    "- This forces the learning algorithm to not only fit the data but also keep the model weights as small as possible. \n",
    "- Ridge regression cost function:\n",
    "$$ J(\\theta) = MSE(\\theta) + \\alpha \\frac{1}{2}\\sum_{i=1}^{n}\\theta_i^2$$"
   ]
  },
  {
   "cell_type": "code",
   "execution_count": null,
   "metadata": {},
   "outputs": [],
   "source": []
  }
 ],
 "metadata": {
  "kernelspec": {
   "display_name": "Python 3",
   "language": "python",
   "name": "python3"
  },
  "language_info": {
   "codemirror_mode": {
    "name": "ipython",
    "version": 3
   },
   "file_extension": ".py",
   "mimetype": "text/x-python",
   "name": "python",
   "nbconvert_exporter": "python",
   "pygments_lexer": "ipython3",
   "version": "3.8.5"
  }
 },
 "nbformat": 4,
 "nbformat_minor": 4
}
